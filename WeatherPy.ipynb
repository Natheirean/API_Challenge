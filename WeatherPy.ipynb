{
 "cells": [
  {
   "cell_type": "markdown",
   "metadata": {},
   "source": [
    "# WeatherPy\n",
    "----\n",
    "\n",
    "#### Note\n",
    "* Instructions have been included for each segment. You do not have to follow them exactly, but they are included to help you think through the steps."
   ]
  },
  {
   "cell_type": "code",
   "execution_count": 66,
   "metadata": {
    "scrolled": true
   },
   "outputs": [],
   "source": [
    "# Dependencies and Setup\n",
    "import matplotlib.pyplot as plt\n",
    "import pandas as pd\n",
    "import numpy as np\n",
    "import requests\n",
    "import time\n",
    "from scipy.stats import linregress\n",
    "\n",
    "# Import API key\n",
    "from api_keys import weather_api_key\n",
    "\n",
    "# Incorporated citipy to determine city based on latitude and longitude\n",
    "from citipy import citipy\n",
    "\n",
    "# Output File (CSV)\n",
    "output_data_file = \"output_data.csv\"\n",
    "\n",
    "# Range of latitudes and longitudes\n",
    "lat_range = (-90, 90)\n",
    "lng_range = (-180, 180)"
   ]
  },
  {
   "cell_type": "markdown",
   "metadata": {},
   "source": [
    "## Generate Cities List"
   ]
  },
  {
   "cell_type": "code",
   "execution_count": 3,
   "metadata": {},
   "outputs": [
    {
     "data": {
      "text/plain": [
       "'komsomolskiy'"
      ]
     },
     "execution_count": 3,
     "metadata": {},
     "output_type": "execute_result"
    }
   ],
   "source": [
    "# List for holding lat_lngs and cities\n",
    "lat_lngs = []\n",
    "cities = []\n",
    "\n",
    "# Create a set of random lat and lng combinations\n",
    "lats = np.random.uniform(lat_range[0], lat_range[1], size=1500)\n",
    "lngs = np.random.uniform(lng_range[0], lng_range[1], size=1500)\n",
    "lat_lngs = zip(lats, lngs)\n",
    "\n",
    "# Identify nearest city for each lat, lng combination\n",
    "for lat_lng in lat_lngs:\n",
    "    city = citipy.nearest_city(lat_lng[0], lat_lng[1]).city_name\n",
    "    \n",
    "    # If the city is unique, then add it to a our cities list\n",
    "    if city not in cities:\n",
    "        cities.append(city)\n",
    "\n",
    "# Print the city count to confirm sufficient count\n",
    "len(cities)\n",
    "cities[0]"
   ]
  },
  {
   "cell_type": "markdown",
   "metadata": {},
   "source": [
    "### Perform API Calls\n",
    "* Perform a weather check on each city using a series of successive API calls.\n",
    "* Include a print log of each city as it'sbeing processed (with the city number and city name).\n"
   ]
  },
  {
   "cell_type": "code",
   "execution_count": 4,
   "metadata": {
    "scrolled": true
   },
   "outputs": [
    {
     "name": "stdout",
     "output_type": "stream",
     "text": [
      "Searching for 0, komsomolskiy\n",
      "Searching for 1, butaritari\n",
      "Searching for 2, goderich\n",
      "Searching for 3, mar del plata\n",
      "Searching for 4, sisophon\n",
      "Searching for 5, port alfred\n",
      "Searching for 6, kapaa\n",
      "Searching for 7, brindisi\n",
      "Searching for 8, port blair\n",
      "Searching for 9, methoni\n",
      "Searching for 10, ushuaia\n",
      "Searching for 11, jamestown\n",
      "Searching for 12, avarua\n",
      "Searching for 13, chatham\n",
      "Searching for 14, marienburg\n",
      "Searching for 15, saleaula\n",
      "City not found, skipping\n",
      "Searching for 16, hithadhoo\n",
      "Searching for 17, mataura\n",
      "Searching for 18, lasa\n",
      "Searching for 19, paamiut\n",
      "Searching for 20, souillac\n",
      "Searching for 21, upernavik\n",
      "Searching for 22, tongliao\n",
      "Searching for 23, khatanga\n",
      "Searching for 24, vestmanna\n",
      "Searching for 25, belushya guba\n",
      "City not found, skipping\n",
      "Searching for 26, leningradskiy\n",
      "Searching for 27, labuhan\n",
      "Searching for 28, yarada\n",
      "Searching for 29, yellowknife\n",
      "Searching for 30, geraldton\n",
      "Searching for 31, provideniya\n",
      "Searching for 32, barentsburg\n",
      "City not found, skipping\n",
      "Searching for 33, hermanus\n",
      "Searching for 34, nikolskoye\n",
      "Searching for 35, qaanaaq\n",
      "Searching for 36, tsihombe\n",
      "City not found, skipping\n",
      "Searching for 37, katsuura\n",
      "Searching for 38, aykhal\n",
      "Searching for 39, bambous virieux\n",
      "Searching for 40, laem sing\n",
      "Searching for 41, athabasca\n",
      "Searching for 42, port elizabeth\n",
      "Searching for 43, toliary\n",
      "City not found, skipping\n",
      "Searching for 44, ezequiel montes\n",
      "Searching for 45, barrow\n",
      "Searching for 46, albany\n",
      "Searching for 47, moyale\n",
      "Searching for 48, rikitea\n",
      "Searching for 49, punta arenas\n",
      "Searching for 50, saint-philippe\n",
      "Searching for 51, saldanha\n",
      "Searching for 52, cap malheureux\n",
      "Searching for 53, bluff\n",
      "Searching for 54, shenjiamen\n",
      "Searching for 55, kamenka\n",
      "Searching for 56, cockburn town\n",
      "Searching for 57, cidreira\n",
      "Searching for 58, vaini\n",
      "Searching for 59, maraba\n",
      "Searching for 60, nortelandia\n",
      "Searching for 61, ntungamo\n",
      "Searching for 62, dharchula\n",
      "Searching for 63, pacific grove\n",
      "Searching for 64, narsaq\n",
      "Searching for 65, saskylakh\n",
      "Searching for 66, mahibadhoo\n",
      "Searching for 67, taltal\n",
      "Searching for 68, acarau\n",
      "Searching for 69, hilo\n",
      "Searching for 70, marcona\n",
      "City not found, skipping\n",
      "Searching for 71, weyburn\n",
      "Searching for 72, samusu\n",
      "City not found, skipping\n",
      "Searching for 73, taburi\n",
      "City not found, skipping\n",
      "Searching for 74, vaitupu\n",
      "City not found, skipping\n",
      "Searching for 75, east london\n",
      "Searching for 76, hudiksvall\n",
      "Searching for 77, sadowara\n",
      "City not found, skipping\n",
      "Searching for 78, hami\n",
      "Searching for 79, chicama\n",
      "Searching for 80, fort nelson\n",
      "Searching for 81, north bend\n",
      "Searching for 82, new norfolk\n",
      "Searching for 83, teguise\n",
      "Searching for 84, tasiilaq\n",
      "Searching for 85, mahebourg\n",
      "Searching for 86, kharian\n",
      "Searching for 87, grand river south east\n",
      "City not found, skipping\n",
      "Searching for 88, hasaki\n",
      "Searching for 89, kangaatsiaq\n",
      "Searching for 90, kodiak\n",
      "Searching for 91, port hardy\n",
      "Searching for 92, najran\n",
      "Searching for 93, busselton\n",
      "Searching for 94, touros\n",
      "Searching for 95, santa isabel\n",
      "Searching for 96, tiksi\n",
      "Searching for 97, karamken\n",
      "City not found, skipping\n",
      "Searching for 98, castro\n",
      "Searching for 99, georgetown\n",
      "Searching for 100, airai\n",
      "Searching for 101, bredasdorp\n",
      "Searching for 102, egvekinot\n",
      "Searching for 103, sucua\n",
      "Searching for 104, tezu\n",
      "Searching for 105, baruun-urt\n",
      "Searching for 106, saint-pierre\n",
      "Searching for 107, nanortalik\n",
      "Searching for 108, nelson bay\n",
      "Searching for 109, umm lajj\n",
      "Searching for 110, gander\n",
      "Searching for 111, nago\n",
      "Searching for 112, fare\n",
      "Searching for 113, kavaratti\n",
      "Searching for 114, severo-kurilsk\n",
      "Searching for 115, illoqqortoormiut\n",
      "City not found, skipping\n",
      "Searching for 116, constitucion\n",
      "Searching for 117, chokurdakh\n",
      "Searching for 118, pevek\n",
      "Searching for 119, taolanaro\n",
      "City not found, skipping\n",
      "Searching for 120, hobart\n",
      "Searching for 121, cherskiy\n",
      "Searching for 122, bargal\n",
      "City not found, skipping\n",
      "Searching for 123, fairbanks\n",
      "Searching for 124, nemuro\n",
      "Searching for 125, san patricio\n",
      "Searching for 126, terrace\n",
      "Searching for 127, soyo\n",
      "Searching for 128, guerrero negro\n",
      "Searching for 129, esmeralda\n",
      "Searching for 130, cabo san lucas\n",
      "Searching for 131, arraial do cabo\n",
      "Searching for 132, kagoro\n",
      "Searching for 133, tidore\n",
      "City not found, skipping\n",
      "Searching for 134, cape town\n",
      "Searching for 135, attawapiskat\n",
      "City not found, skipping\n",
      "Searching for 136, vyazma\n",
      "Searching for 137, sitka\n",
      "Searching for 138, abiy adi\n",
      "City not found, skipping\n",
      "Searching for 139, tarudant\n",
      "City not found, skipping\n",
      "Searching for 140, los llanos de aridane\n",
      "Searching for 141, ciudad bolivar\n",
      "Searching for 142, atuona\n",
      "Searching for 143, sa kaeo\n",
      "Searching for 144, muros\n",
      "Searching for 145, torbay\n",
      "Searching for 146, coihaique\n",
      "Searching for 147, tuktoyaktuk\n",
      "Searching for 148, dudinka\n",
      "Searching for 149, lamu\n",
      "Searching for 150, dikson\n",
      "Searching for 151, marathon\n",
      "Searching for 152, revadanda\n",
      "Searching for 153, hamilton\n",
      "Searching for 154, kaitangata\n",
      "Searching for 155, puerto ayora\n",
      "Searching for 156, garowe\n",
      "Searching for 157, puerto del rosario\n",
      "Searching for 158, formoso do araguaia\n",
      "City not found, skipping\n",
      "Searching for 159, te anau\n",
      "Searching for 160, kamenskoye\n",
      "City not found, skipping\n",
      "Searching for 161, soure\n",
      "Searching for 162, kostomuksha\n",
      "Searching for 163, lebu\n",
      "Searching for 164, norman wells\n",
      "Searching for 165, acapulco\n",
      "Searching for 166, broome\n",
      "Searching for 167, klaksvik\n",
      "Searching for 168, bethanien\n",
      "Searching for 169, hobyo\n",
      "Searching for 170, quelimane\n",
      "Searching for 171, domodossola\n",
      "Searching for 172, tocopilla\n",
      "Searching for 173, mecca\n",
      "Searching for 174, parati\n",
      "Searching for 175, ribeira grande\n",
      "Searching for 176, khandyga\n",
      "Searching for 177, camacha\n",
      "Searching for 178, ponta do sol\n",
      "Searching for 179, qeshm\n",
      "Searching for 180, hualmay\n",
      "Searching for 181, krasnoselkup\n",
      "Searching for 182, srednekolymsk\n",
      "Searching for 183, chara\n",
      "Searching for 184, general roca\n",
      "Searching for 185, cortez\n",
      "Searching for 186, yirol\n",
      "City not found, skipping\n",
      "Searching for 187, fort saint john\n",
      "City not found, skipping\n",
      "Searching for 188, isangel\n",
      "Searching for 189, mirnyy\n",
      "Searching for 190, emilio carranza\n",
      "Searching for 191, mys shmidta\n",
      "City not found, skipping\n",
      "Searching for 192, shurugwi\n",
      "Searching for 193, yuanping\n",
      "Searching for 194, chongqing\n",
      "Searching for 195, borogontsy\n",
      "Searching for 196, vila velha\n",
      "Searching for 197, bethel\n",
      "Searching for 198, talas\n",
      "Searching for 199, quang ngai\n",
      "Searching for 200, angoche\n",
      "Searching for 201, navabad\n",
      "City not found, skipping\n",
      "Searching for 202, leshukonskoye\n",
      "Searching for 203, monrovia\n",
      "Searching for 204, makamba\n",
      "Searching for 205, novikovo\n",
      "Searching for 206, salalah\n",
      "Searching for 207, chimbote\n",
      "Searching for 208, baijiantan\n",
      "Searching for 209, nizhneyansk\n",
      "City not found, skipping\n",
      "Searching for 210, thompson\n",
      "Searching for 211, chuy\n",
      "Searching for 212, tawkar\n",
      "City not found, skipping\n",
      "Searching for 213, micheweni\n",
      "Searching for 214, ovre ardal\n",
      "Searching for 215, ilulissat\n",
      "Searching for 216, antofagasta\n",
      "Searching for 217, lubango\n",
      "Searching for 218, yarke pole\n",
      "Searching for 219, nara\n",
      "Searching for 220, temba\n",
      "Searching for 221, poum\n",
      "Searching for 222, san cristobal\n",
      "Searching for 223, kununurra\n",
      "Searching for 224, arlit\n",
      "Searching for 225, tautira\n",
      "Searching for 226, manakara\n",
      "Searching for 227, hattiesburg\n",
      "Searching for 228, faanui\n",
      "Searching for 229, san jose\n",
      "Searching for 230, doha\n",
      "Searching for 231, moctezuma\n",
      "Searching for 232, moree\n",
      "Searching for 233, belyy yar\n",
      "Searching for 234, alyangula\n",
      "Searching for 235, kavieng\n",
      "Searching for 236, bentiu\n",
      "Searching for 237, ruatoria\n",
      "City not found, skipping\n",
      "Searching for 238, esperance\n",
      "Searching for 239, mokokchung\n",
      "Searching for 240, bantou\n",
      "Searching for 241, snihurivka\n",
      "Searching for 242, saint george\n",
      "Searching for 243, two rivers\n",
      "Searching for 244, rafai\n",
      "Searching for 245, mezen\n",
      "Searching for 246, vilhena\n",
      "Searching for 247, harper\n",
      "Searching for 248, sur\n",
      "Searching for 249, petropavlovsk-kamchatskiy\n",
      "Searching for 250, ambodifototra\n",
      "City not found, skipping\n",
      "Searching for 251, vao\n",
      "Searching for 252, abbeyfeale\n",
      "Searching for 253, show low\n",
      "Searching for 254, ornskoldsvik\n",
      "Searching for 255, verkhnevilyuysk\n",
      "Searching for 256, kirovskiy\n",
      "Searching for 257, prachuap khiri khan\n",
      "Searching for 258, charlottesville\n",
      "Searching for 259, mogwase\n",
      "Searching for 260, portland\n",
      "Searching for 261, fortuna\n",
      "Searching for 262, parabel\n",
      "Searching for 263, pak phanang\n",
      "Searching for 264, tahta\n"
     ]
    },
    {
     "name": "stdout",
     "output_type": "stream",
     "text": [
      "Searching for 265, fukue\n",
      "Searching for 266, ancud\n",
      "Searching for 267, faya\n",
      "Searching for 268, amderma\n",
      "City not found, skipping\n",
      "Searching for 269, bataipora\n",
      "Searching for 270, ghanzi\n",
      "Searching for 271, avera\n",
      "Searching for 272, fonte boa\n",
      "Searching for 273, sabha\n",
      "Searching for 274, nicoya\n",
      "Searching for 275, mount isa\n",
      "Searching for 276, evensk\n",
      "Searching for 277, netrakona\n",
      "Searching for 278, yatou\n",
      "Searching for 279, jalu\n",
      "Searching for 280, naliya\n",
      "Searching for 281, lamar\n",
      "Searching for 282, hofn\n",
      "Searching for 283, salta\n",
      "Searching for 284, nome\n",
      "Searching for 285, eskasem\n",
      "City not found, skipping\n",
      "Searching for 286, kpandu\n",
      "Searching for 287, sangar\n",
      "Searching for 288, bukachacha\n",
      "Searching for 289, gat\n",
      "Searching for 290, hatillo\n",
      "Searching for 291, haines junction\n",
      "Searching for 292, zyryanka\n",
      "Searching for 293, julio de castilhos\n",
      "Searching for 294, palauig\n",
      "Searching for 295, tateyama\n",
      "Searching for 296, tonantins\n",
      "Searching for 297, san carlos de bariloche\n",
      "Searching for 298, zolotinka\n",
      "City not found, skipping\n",
      "Searching for 299, walvis bay\n",
      "Searching for 300, seoul\n",
      "Searching for 301, tatarsk\n",
      "Searching for 302, karasburg\n",
      "Searching for 303, manono\n",
      "Searching for 304, ozernovskiy\n",
      "Searching for 305, luderitz\n",
      "Searching for 306, laguna\n",
      "Searching for 307, hambantota\n",
      "Searching for 308, bathsheba\n",
      "Searching for 309, iqaluit\n",
      "Searching for 310, gaptsakh\n",
      "Searching for 311, carnarvon\n",
      "Searching for 312, victoria\n",
      "Searching for 313, ngukurr\n",
      "City not found, skipping\n",
      "Searching for 314, watsa\n",
      "Searching for 315, culleredo\n",
      "Searching for 316, beringovskiy\n",
      "Searching for 317, mandalgovi\n",
      "Searching for 318, neiafu\n",
      "Searching for 319, rodrigues alves\n",
      "Searching for 320, boguchany\n",
      "Searching for 321, soeng sang\n",
      "Searching for 322, bridlington\n",
      "Searching for 323, naftah\n",
      "City not found, skipping\n",
      "Searching for 324, umzimvubu\n",
      "City not found, skipping\n",
      "Searching for 325, bela pod bezdezem\n",
      "Searching for 326, namatanai\n",
      "Searching for 327, plouzane\n",
      "Searching for 328, karoi\n",
      "Searching for 329, yarmouth\n",
      "Searching for 330, stromness\n",
      "Searching for 331, jiddah\n",
      "City not found, skipping\n",
      "Searching for 332, kanashevo\n",
      "Searching for 333, rawson\n",
      "Searching for 334, mao\n",
      "Searching for 335, lakselv\n",
      "Searching for 336, wakefield\n",
      "Searching for 337, san quintin\n",
      "Searching for 338, lorengau\n",
      "Searching for 339, mayo\n",
      "Searching for 340, bosconia\n",
      "Searching for 341, koundara\n",
      "Searching for 342, tzucacab\n",
      "Searching for 343, high level\n",
      "Searching for 344, pisco\n",
      "Searching for 345, akyab\n",
      "Searching for 346, harwich\n",
      "Searching for 347, gulu\n",
      "Searching for 348, road town\n",
      "Searching for 349, suzhou\n",
      "Searching for 350, san vicente\n",
      "Searching for 351, araguaina\n",
      "Searching for 352, hemsedal\n",
      "Searching for 353, kastamonu\n",
      "Searching for 354, turtkul\n",
      "City not found, skipping\n",
      "Searching for 355, vanavara\n",
      "Searching for 356, saint-georges\n",
      "Searching for 357, mugan\n",
      "Searching for 358, mantua\n",
      "Searching for 359, solnechnyy\n",
      "Searching for 360, sitio novo do tocantins\n",
      "Searching for 361, northam\n",
      "Searching for 362, husavik\n",
      "Searching for 363, iskateley\n",
      "Searching for 364, nouadhibou\n",
      "Searching for 365, bengkulu\n",
      "Searching for 366, takoradi\n",
      "Searching for 367, burnie\n",
      "Searching for 368, bandarbeyla\n",
      "Searching for 369, dingle\n",
      "Searching for 370, areosa\n",
      "Searching for 371, surat thani\n",
      "Searching for 372, oranjemund\n",
      "Searching for 373, yulara\n",
      "Searching for 374, burns lake\n",
      "Searching for 375, kiunga\n",
      "Searching for 376, saint-augustin\n",
      "Searching for 377, tuatapere\n",
      "Searching for 378, sao jose da coroa grande\n",
      "Searching for 379, bolungarvik\n",
      "City not found, skipping\n",
      "Searching for 380, monkey bay\n",
      "Searching for 381, seminole\n",
      "Searching for 382, trairi\n",
      "Searching for 383, abu kamal\n",
      "Searching for 384, alice springs\n",
      "Searching for 385, awbari\n",
      "Searching for 386, gayny\n",
      "Searching for 387, pandan\n",
      "Searching for 388, paita\n",
      "Searching for 389, dukat\n",
      "Searching for 390, moerai\n",
      "Searching for 391, shakawe\n",
      "Searching for 392, taiyuan\n",
      "Searching for 393, grants\n",
      "Searching for 394, jieshi\n",
      "Searching for 395, chernyshevskiy\n",
      "Searching for 396, sawakin\n",
      "Searching for 397, ampanihy\n",
      "Searching for 398, flinders\n",
      "Searching for 399, lagoa\n",
      "Searching for 400, port lincoln\n",
      "Searching for 401, lavrentiya\n",
      "Searching for 402, vardo\n",
      "Searching for 403, bolshoy tsaryn\n",
      "City not found, skipping\n",
      "Searching for 404, adrar\n",
      "Searching for 405, sataua\n",
      "City not found, skipping\n",
      "Searching for 406, longyearbyen\n",
      "Searching for 407, slobozia\n",
      "Searching for 408, codrington\n",
      "Searching for 409, netivot\n",
      "Searching for 410, shimoda\n",
      "Searching for 411, borujerd\n",
      "Searching for 412, eureka\n",
      "Searching for 413, polunochnoye\n",
      "Searching for 414, contai\n",
      "Searching for 415, clyde river\n",
      "Searching for 416, labutta\n",
      "City not found, skipping\n",
      "Searching for 417, khorixas\n",
      "Searching for 418, kahului\n",
      "Searching for 419, traralgon\n",
      "Searching for 420, polis\n",
      "Searching for 421, mangrol\n",
      "Searching for 422, ust-nera\n",
      "Searching for 423, sorland\n",
      "Searching for 424, marakkanam\n",
      "Searching for 425, itarema\n",
      "Searching for 426, troy\n",
      "Searching for 427, jamame\n",
      "Searching for 428, inhambane\n",
      "Searching for 429, bosaso\n",
      "Searching for 430, perehonivka\n",
      "Searching for 431, sinjar\n",
      "Searching for 432, solovetskiy\n",
      "City not found, skipping\n",
      "Searching for 433, westport\n",
      "Searching for 434, zaysan\n",
      "Searching for 435, ylivieska\n",
      "Searching for 436, san policarpo\n",
      "Searching for 437, metamorfosis\n",
      "City not found, skipping\n",
      "Searching for 438, spassk-dalniy\n",
      "Searching for 439, menongue\n",
      "Searching for 440, jacmel\n",
      "Searching for 441, mto wa mbu\n",
      "Searching for 442, sao filipe\n",
      "Searching for 443, benjamin constant\n",
      "Searching for 444, anadyr\n",
      "Searching for 445, tevaitoa\n",
      "Searching for 446, la rioja\n",
      "Searching for 447, agen\n",
      "Searching for 448, penticton\n",
      "Searching for 449, kashi\n",
      "Searching for 450, otradnoye\n",
      "Searching for 451, maraa\n",
      "Searching for 452, bismil\n",
      "Searching for 453, grindavik\n",
      "Searching for 454, tawang\n",
      "Searching for 455, banda aceh\n",
      "Searching for 456, tobe\n",
      "Searching for 457, meulaboh\n",
      "Searching for 458, zhumadian\n",
      "Searching for 459, san julian\n",
      "Searching for 460, bonavista\n",
      "Searching for 461, soe\n",
      "Searching for 462, puerto el triunfo\n",
      "Searching for 463, tumannyy\n",
      "City not found, skipping\n",
      "Searching for 464, teruel\n",
      "Searching for 465, tabiauea\n",
      "City not found, skipping\n",
      "Searching for 466, morwell\n",
      "Searching for 467, omboue\n",
      "Searching for 468, rungata\n",
      "City not found, skipping\n",
      "Searching for 469, vostok\n",
      "Searching for 470, allende\n",
      "Searching for 471, calabozo\n",
      "Searching for 472, coquimbo\n",
      "Searching for 473, georgiyevskoye\n",
      "Searching for 474, namibe\n",
      "Searching for 475, odweyne\n",
      "Searching for 476, palu\n",
      "Searching for 477, karratha\n",
      "Searching for 478, lubumbashi\n",
      "Searching for 479, warner robins\n",
      "Searching for 480, benguela\n",
      "Searching for 481, aguada de pasajeros\n",
      "Searching for 482, cairns\n",
      "Searching for 483, mergui\n",
      "City not found, skipping\n",
      "Searching for 484, taybad\n",
      "Searching for 485, warqla\n",
      "City not found, skipping\n",
      "Searching for 486, morondava\n",
      "Searching for 487, cueramaro\n",
      "Searching for 488, goure\n",
      "Searching for 489, zhenlai\n",
      "Searching for 490, haibowan\n",
      "City not found, skipping\n",
      "Searching for 491, saint-francois\n",
      "Searching for 492, cabedelo\n",
      "Searching for 493, mukhen\n",
      "Searching for 494, peniche\n",
      "Searching for 495, port-de-paix\n",
      "City not found, skipping\n",
      "Searching for 496, pasighat\n",
      "Searching for 497, novaya malykla\n",
      "Searching for 498, tilichiki\n",
      "Searching for 499, padang\n",
      "Searching for 500, lakatoro\n",
      "Searching for 501, wysokie mazowieckie\n",
      "Searching for 502, slave lake\n",
      "Searching for 503, barawe\n",
      "City not found, skipping\n",
      "Searching for 504, loding\n",
      "Searching for 505, rock sound\n",
      "Searching for 506, tambura\n",
      "Searching for 507, port augusta\n",
      "Searching for 508, raudeberg\n",
      "Searching for 509, demba\n",
      "Searching for 510, sorvag\n",
      "City not found, skipping\n",
      "Searching for 511, hovd\n",
      "Searching for 512, visby\n",
      "Searching for 513, mount gambier\n",
      "Searching for 514, kumluca\n",
      "Searching for 515, matara\n",
      "Searching for 516, altona\n",
      "Searching for 517, koumac\n",
      "Searching for 518, craig\n",
      "Searching for 519, kelo\n",
      "Searching for 520, cangucu\n",
      "Searching for 521, harnosand\n",
      "Searching for 522, el salto\n",
      "Searching for 523, gizo\n",
      "Searching for 524, brae\n",
      "Searching for 525, pinega\n",
      "Searching for 526, daxian\n",
      "City not found, skipping\n",
      "Searching for 527, palabuhanratu\n",
      "City not found, skipping\n",
      "Searching for 528, khor\n",
      "Searching for 529, mehamn\n",
      "Searching for 530, campanha\n",
      "Searching for 531, simao\n",
      "Searching for 532, port macquarie\n",
      "Searching for 533, ketchikan\n",
      "Searching for 534, gebre guracha\n"
     ]
    },
    {
     "name": "stdout",
     "output_type": "stream",
     "text": [
      "Searching for 535, ishigaki\n",
      "Searching for 536, nongan\n",
      "Searching for 537, pangnirtung\n",
      "Searching for 538, scarborough\n",
      "Searching for 539, ayan\n",
      "Searching for 540, tucuma\n",
      "Searching for 541, aripuana\n",
      "Searching for 542, kertosono\n",
      "Searching for 543, cassilandia\n",
      "Searching for 544, kenai\n",
      "Searching for 545, verkh-usugli\n",
      "Searching for 546, la canada\n",
      "Searching for 547, pakhtakoron\n",
      "Searching for 548, lompoc\n",
      "Searching for 549, ariquemes\n",
      "Searching for 550, pauini\n",
      "Searching for 551, madang\n",
      "Searching for 552, deputatskiy\n",
      "Searching for 553, vila do maio\n",
      "Searching for 554, gawler\n",
      "Searching for 555, ust-kuyga\n",
      "Searching for 556, olinda\n",
      "Searching for 557, tavda\n",
      "Searching for 558, vagur\n",
      "Searching for 559, grandola\n",
      "Searching for 560, akureyri\n",
      "Searching for 561, utiroa\n",
      "City not found, skipping\n",
      "Searching for 562, omsukchan\n",
      "Searching for 563, beidao\n",
      "Searching for 564, nadym\n",
      "Searching for 565, necochea\n",
      "Searching for 566, chiali\n",
      "City not found, skipping\n",
      "Searching for 567, tubruq\n",
      "City not found, skipping\n",
      "Searching for 568, muisne\n",
      "Searching for 569, kaeo\n",
      "Searching for 570, belaya gora\n",
      "Searching for 571, turukhansk\n",
      "Searching for 572, narrabri\n",
      "Searching for 573, tuchkovo\n",
      "Searching for 574, grand gaube\n",
      "Searching for 575, okhotsk\n",
      "Searching for 576, puerto quijarro\n",
      "Searching for 577, iguape\n",
      "Searching for 578, abohar\n",
      "Searching for 579, notse\n",
      "Searching for 580, solhan\n",
      "Searching for 581, nishihara\n",
      "Searching for 582, oranjestad\n"
     ]
    }
   ],
   "source": [
    "base_url = \"http://api.openweathermap.org/data/2.5/weather?q=\"\n",
    "max_temp = []\n",
    "humidity = []\n",
    "cloudiness = []\n",
    "wind_speed = []\n",
    "country = []\n",
    "date = []\n",
    "latitutde = []\n",
    "longitude = []\n",
    "\n",
    "for city in cities:\n",
    "    # 1 Second sleep time to prevent issues with API timing out\n",
    "    time.sleep(1)\n",
    "    try:\n",
    "        #Add info for each api request to lists\n",
    "        print(f\"Searching for {cities.index(city)}, {city}\")\n",
    "        full_url = f\"{base_url}{city}&appid={weather_api_key}&units=metric\"\n",
    "        result = requests.get(full_url).json()\n",
    "        max_temp.append(result['main']['temp'])\n",
    "        humidity.append(result['main']['humidity'])\n",
    "        cloudiness.append(result['clouds']['all'])\n",
    "        wind_speed.append(result['wind']['speed'])\n",
    "        country.append(result['sys']['country'])\n",
    "        date.append(result['dt'])\n",
    "        latitutde.append(result['coord']['lat'])\n",
    "        longitude.append(result['coord']['lon'])\n",
    "    except:\n",
    "        #If city not found, create Null entires in lists, to drop in DF later\n",
    "        print(\"City not found, skipping\")\n",
    "        max_temp.append(None)\n",
    "        humidity.append(None)\n",
    "        cloudiness.append(None)\n",
    "        wind_speed.append(None)\n",
    "        country.append(None)\n",
    "        date.append(None)\n",
    "        latitutde.append(None)\n",
    "        longitude.append(None)"
   ]
  },
  {
   "cell_type": "code",
   "execution_count": 6,
   "metadata": {},
   "outputs": [],
   "source": [
    "city_df = pd.DataFrame({\"City\": cities,\n",
    "                        \"Lat\" : latitutde,\n",
    "                        \"Lng\" : longitude,\n",
    "                        \"Max Temp\": max_temp,\n",
    "                        \"Humidity\": humidity,\n",
    "                        \"Cloudiness\": cloudiness,\n",
    "                        \"Wind Speed\": wind_speed,\n",
    "                        \"Country\": country,\n",
    "                        \"Date\": date\n",
    "                       })\n",
    "city_df.dropna(inplace=True)"
   ]
  },
  {
   "cell_type": "markdown",
   "metadata": {},
   "source": [
    "### Convert Raw Data to DataFrame\n",
    "* Export the city data into a .csv.\n",
    "* Display the DataFrame"
   ]
  },
  {
   "cell_type": "code",
   "execution_count": 7,
   "metadata": {},
   "outputs": [
    {
     "name": "stdout",
     "output_type": "stream",
     "text": [
      "<class 'pandas.core.frame.DataFrame'>\n",
      "Int64Index: 526 entries, 0 to 582\n",
      "Data columns (total 9 columns):\n",
      " #   Column      Non-Null Count  Dtype  \n",
      "---  ------      --------------  -----  \n",
      " 0   City        526 non-null    object \n",
      " 1   Lat         526 non-null    float64\n",
      " 2   Lng         526 non-null    float64\n",
      " 3   Max Temp    526 non-null    float64\n",
      " 4   Humidity    526 non-null    float64\n",
      " 5   Cloudiness  526 non-null    float64\n",
      " 6   Wind Speed  526 non-null    float64\n",
      " 7   Country     526 non-null    object \n",
      " 8   Date        526 non-null    float64\n",
      "dtypes: float64(7), object(2)\n",
      "memory usage: 41.1+ KB\n"
     ]
    }
   ],
   "source": [
    "city_df.info()"
   ]
  },
  {
   "cell_type": "code",
   "execution_count": 8,
   "metadata": {},
   "outputs": [
    {
     "data": {
      "text/plain": [
       "100.0"
      ]
     },
     "execution_count": 8,
     "metadata": {},
     "output_type": "execute_result"
    }
   ],
   "source": [
    "city_df.Humidity.max()"
   ]
  },
  {
   "cell_type": "markdown",
   "metadata": {},
   "source": [
    "## Inspect the data and remove the cities where the humidity > 100%.\n",
    "----\n",
    "Skip this step if there are no cities that have humidity > 100%. "
   ]
  },
  {
   "cell_type": "code",
   "execution_count": 6,
   "metadata": {},
   "outputs": [
    {
     "data": {
      "text/html": [
       "<div>\n",
       "<style scoped>\n",
       "    .dataframe tbody tr th:only-of-type {\n",
       "        vertical-align: middle;\n",
       "    }\n",
       "\n",
       "    .dataframe tbody tr th {\n",
       "        vertical-align: top;\n",
       "    }\n",
       "\n",
       "    .dataframe thead th {\n",
       "        text-align: right;\n",
       "    }\n",
       "</style>\n",
       "<table border=\"1\" class=\"dataframe\">\n",
       "  <thead>\n",
       "    <tr style=\"text-align: right;\">\n",
       "      <th></th>\n",
       "      <th>Lat</th>\n",
       "      <th>Lng</th>\n",
       "      <th>Max Temp</th>\n",
       "      <th>Humidity</th>\n",
       "      <th>Cloudiness</th>\n",
       "      <th>Wind Speed</th>\n",
       "      <th>Date</th>\n",
       "    </tr>\n",
       "  </thead>\n",
       "  <tbody>\n",
       "    <tr>\n",
       "      <th>count</th>\n",
       "      <td>550.000000</td>\n",
       "      <td>550.000000</td>\n",
       "      <td>550.000000</td>\n",
       "      <td>550.000000</td>\n",
       "      <td>550.000000</td>\n",
       "      <td>550.000000</td>\n",
       "      <td>5.500000e+02</td>\n",
       "    </tr>\n",
       "    <tr>\n",
       "      <th>mean</th>\n",
       "      <td>19.973545</td>\n",
       "      <td>17.124400</td>\n",
       "      <td>58.331400</td>\n",
       "      <td>67.890909</td>\n",
       "      <td>52.141818</td>\n",
       "      <td>8.544800</td>\n",
       "      <td>1.585764e+09</td>\n",
       "    </tr>\n",
       "    <tr>\n",
       "      <th>std</th>\n",
       "      <td>33.284840</td>\n",
       "      <td>91.595451</td>\n",
       "      <td>25.795297</td>\n",
       "      <td>20.864881</td>\n",
       "      <td>35.766469</td>\n",
       "      <td>6.078869</td>\n",
       "      <td>5.539674e+01</td>\n",
       "    </tr>\n",
       "    <tr>\n",
       "      <th>min</th>\n",
       "      <td>-54.800000</td>\n",
       "      <td>-179.170000</td>\n",
       "      <td>-11.340000</td>\n",
       "      <td>9.000000</td>\n",
       "      <td>0.000000</td>\n",
       "      <td>0.160000</td>\n",
       "      <td>1.585764e+09</td>\n",
       "    </tr>\n",
       "    <tr>\n",
       "      <th>25%</th>\n",
       "      <td>-8.077500</td>\n",
       "      <td>-64.627500</td>\n",
       "      <td>42.800000</td>\n",
       "      <td>55.000000</td>\n",
       "      <td>20.000000</td>\n",
       "      <td>4.525000</td>\n",
       "      <td>1.585764e+09</td>\n",
       "    </tr>\n",
       "    <tr>\n",
       "      <th>50%</th>\n",
       "      <td>23.630000</td>\n",
       "      <td>19.635000</td>\n",
       "      <td>64.940000</td>\n",
       "      <td>72.000000</td>\n",
       "      <td>57.000000</td>\n",
       "      <td>7.325000</td>\n",
       "      <td>1.585764e+09</td>\n",
       "    </tr>\n",
       "    <tr>\n",
       "      <th>75%</th>\n",
       "      <td>48.672500</td>\n",
       "      <td>97.350000</td>\n",
       "      <td>78.800000</td>\n",
       "      <td>83.000000</td>\n",
       "      <td>86.750000</td>\n",
       "      <td>11.410000</td>\n",
       "      <td>1.585764e+09</td>\n",
       "    </tr>\n",
       "    <tr>\n",
       "      <th>max</th>\n",
       "      <td>78.220000</td>\n",
       "      <td>179.320000</td>\n",
       "      <td>102.200000</td>\n",
       "      <td>100.000000</td>\n",
       "      <td>100.000000</td>\n",
       "      <td>46.080000</td>\n",
       "      <td>1.585764e+09</td>\n",
       "    </tr>\n",
       "  </tbody>\n",
       "</table>\n",
       "</div>"
      ],
      "text/plain": [
       "              Lat         Lng    Max Temp    Humidity  Cloudiness  Wind Speed  \\\n",
       "count  550.000000  550.000000  550.000000  550.000000  550.000000  550.000000   \n",
       "mean    19.973545   17.124400   58.331400   67.890909   52.141818    8.544800   \n",
       "std     33.284840   91.595451   25.795297   20.864881   35.766469    6.078869   \n",
       "min    -54.800000 -179.170000  -11.340000    9.000000    0.000000    0.160000   \n",
       "25%     -8.077500  -64.627500   42.800000   55.000000   20.000000    4.525000   \n",
       "50%     23.630000   19.635000   64.940000   72.000000   57.000000    7.325000   \n",
       "75%     48.672500   97.350000   78.800000   83.000000   86.750000   11.410000   \n",
       "max     78.220000  179.320000  102.200000  100.000000  100.000000   46.080000   \n",
       "\n",
       "               Date  \n",
       "count  5.500000e+02  \n",
       "mean   1.585764e+09  \n",
       "std    5.539674e+01  \n",
       "min    1.585764e+09  \n",
       "25%    1.585764e+09  \n",
       "50%    1.585764e+09  \n",
       "75%    1.585764e+09  \n",
       "max    1.585764e+09  "
      ]
     },
     "execution_count": 6,
     "metadata": {},
     "output_type": "execute_result"
    }
   ],
   "source": [
    "# Skipping, no cities with >100%"
   ]
  },
  {
   "cell_type": "code",
   "execution_count": 17,
   "metadata": {},
   "outputs": [
    {
     "data": {
      "text/plain": [
       "Int64Index([], dtype='int64')"
      ]
     },
     "execution_count": 17,
     "metadata": {},
     "output_type": "execute_result"
    }
   ],
   "source": [
    "#  Get the indices of cities that have humidity over 100%.\n"
   ]
  },
  {
   "cell_type": "code",
   "execution_count": 19,
   "metadata": {},
   "outputs": [
    {
     "data": {
      "text/html": [
       "<div>\n",
       "<style scoped>\n",
       "    .dataframe tbody tr th:only-of-type {\n",
       "        vertical-align: middle;\n",
       "    }\n",
       "\n",
       "    .dataframe tbody tr th {\n",
       "        vertical-align: top;\n",
       "    }\n",
       "\n",
       "    .dataframe thead th {\n",
       "        text-align: right;\n",
       "    }\n",
       "</style>\n",
       "<table border=\"1\" class=\"dataframe\">\n",
       "  <thead>\n",
       "    <tr style=\"text-align: right;\">\n",
       "      <th></th>\n",
       "      <th>City</th>\n",
       "      <th>Lat</th>\n",
       "      <th>Lng</th>\n",
       "      <th>Max Temp</th>\n",
       "      <th>Humidity</th>\n",
       "      <th>Cloudiness</th>\n",
       "      <th>Wind Speed</th>\n",
       "      <th>Country</th>\n",
       "      <th>Date</th>\n",
       "    </tr>\n",
       "  </thead>\n",
       "  <tbody>\n",
       "    <tr>\n",
       "      <td>0</td>\n",
       "      <td>butaritari</td>\n",
       "      <td>3.07</td>\n",
       "      <td>172.79</td>\n",
       "      <td>83.32</td>\n",
       "      <td>74</td>\n",
       "      <td>84</td>\n",
       "      <td>10.42</td>\n",
       "      <td>KI</td>\n",
       "      <td>1593605283</td>\n",
       "    </tr>\n",
       "    <tr>\n",
       "      <td>1</td>\n",
       "      <td>yerbogachen</td>\n",
       "      <td>61.28</td>\n",
       "      <td>108.01</td>\n",
       "      <td>79.52</td>\n",
       "      <td>58</td>\n",
       "      <td>20</td>\n",
       "      <td>7.70</td>\n",
       "      <td>RU</td>\n",
       "      <td>1593605121</td>\n",
       "    </tr>\n",
       "    <tr>\n",
       "      <td>2</td>\n",
       "      <td>cape town</td>\n",
       "      <td>-33.93</td>\n",
       "      <td>18.42</td>\n",
       "      <td>73.00</td>\n",
       "      <td>77</td>\n",
       "      <td>27</td>\n",
       "      <td>4.70</td>\n",
       "      <td>ZA</td>\n",
       "      <td>1593605039</td>\n",
       "    </tr>\n",
       "    <tr>\n",
       "      <td>3</td>\n",
       "      <td>touba</td>\n",
       "      <td>8.28</td>\n",
       "      <td>-7.68</td>\n",
       "      <td>79.97</td>\n",
       "      <td>75</td>\n",
       "      <td>82</td>\n",
       "      <td>3.58</td>\n",
       "      <td>CI</td>\n",
       "      <td>1593605284</td>\n",
       "    </tr>\n",
       "    <tr>\n",
       "      <td>4</td>\n",
       "      <td>jamestown</td>\n",
       "      <td>42.10</td>\n",
       "      <td>-79.24</td>\n",
       "      <td>64.00</td>\n",
       "      <td>88</td>\n",
       "      <td>1</td>\n",
       "      <td>6.93</td>\n",
       "      <td>US</td>\n",
       "      <td>1593605284</td>\n",
       "    </tr>\n",
       "  </tbody>\n",
       "</table>\n",
       "</div>"
      ],
      "text/plain": [
       "          City    Lat     Lng  Max Temp  Humidity  Cloudiness  Wind Speed  \\\n",
       "0   butaritari   3.07  172.79     83.32        74          84       10.42   \n",
       "1  yerbogachen  61.28  108.01     79.52        58          20        7.70   \n",
       "2    cape town -33.93   18.42     73.00        77          27        4.70   \n",
       "3        touba   8.28   -7.68     79.97        75          82        3.58   \n",
       "4    jamestown  42.10  -79.24     64.00        88           1        6.93   \n",
       "\n",
       "  Country        Date  \n",
       "0      KI  1593605283  \n",
       "1      RU  1593605121  \n",
       "2      ZA  1593605039  \n",
       "3      CI  1593605284  \n",
       "4      US  1593605284  "
      ]
     },
     "execution_count": 19,
     "metadata": {},
     "output_type": "execute_result"
    }
   ],
   "source": [
    "# Make a new DataFrame equal to the city data to drop all humidity outliers by index.\n",
    "# Passing \"inplace=False\" will make a copy of the city_data DataFrame, which we call \"clean_city_data\".\n"
   ]
  },
  {
   "cell_type": "code",
   "execution_count": 9,
   "metadata": {},
   "outputs": [
    {
     "data": {
      "text/html": [
       "<div>\n",
       "<style scoped>\n",
       "    .dataframe tbody tr th:only-of-type {\n",
       "        vertical-align: middle;\n",
       "    }\n",
       "\n",
       "    .dataframe tbody tr th {\n",
       "        vertical-align: top;\n",
       "    }\n",
       "\n",
       "    .dataframe thead th {\n",
       "        text-align: right;\n",
       "    }\n",
       "</style>\n",
       "<table border=\"1\" class=\"dataframe\">\n",
       "  <thead>\n",
       "    <tr style=\"text-align: right;\">\n",
       "      <th></th>\n",
       "      <th>City</th>\n",
       "      <th>Lat</th>\n",
       "      <th>Lng</th>\n",
       "      <th>Max Temp</th>\n",
       "      <th>Humidity</th>\n",
       "      <th>Cloudiness</th>\n",
       "      <th>Wind Speed</th>\n",
       "      <th>Country</th>\n",
       "      <th>Date</th>\n",
       "    </tr>\n",
       "  </thead>\n",
       "  <tbody>\n",
       "    <tr>\n",
       "      <th>0</th>\n",
       "      <td>komsomolskiy</td>\n",
       "      <td>40.4272</td>\n",
       "      <td>71.7189</td>\n",
       "      <td>16.38</td>\n",
       "      <td>25.0</td>\n",
       "      <td>70.0</td>\n",
       "      <td>0.00</td>\n",
       "      <td>UZ</td>\n",
       "      <td>1.635224e+09</td>\n",
       "    </tr>\n",
       "    <tr>\n",
       "      <th>1</th>\n",
       "      <td>butaritari</td>\n",
       "      <td>3.0707</td>\n",
       "      <td>172.7902</td>\n",
       "      <td>28.18</td>\n",
       "      <td>75.0</td>\n",
       "      <td>9.0</td>\n",
       "      <td>3.61</td>\n",
       "      <td>KI</td>\n",
       "      <td>1.635224e+09</td>\n",
       "    </tr>\n",
       "    <tr>\n",
       "      <th>2</th>\n",
       "      <td>goderich</td>\n",
       "      <td>43.7501</td>\n",
       "      <td>-81.7165</td>\n",
       "      <td>6.21</td>\n",
       "      <td>81.0</td>\n",
       "      <td>100.0</td>\n",
       "      <td>7.20</td>\n",
       "      <td>CA</td>\n",
       "      <td>1.635224e+09</td>\n",
       "    </tr>\n",
       "    <tr>\n",
       "      <th>3</th>\n",
       "      <td>mar del plata</td>\n",
       "      <td>-38.0023</td>\n",
       "      <td>-57.5575</td>\n",
       "      <td>13.20</td>\n",
       "      <td>80.0</td>\n",
       "      <td>0.0</td>\n",
       "      <td>1.34</td>\n",
       "      <td>AR</td>\n",
       "      <td>1.635224e+09</td>\n",
       "    </tr>\n",
       "    <tr>\n",
       "      <th>4</th>\n",
       "      <td>sisophon</td>\n",
       "      <td>13.5859</td>\n",
       "      <td>102.9737</td>\n",
       "      <td>28.57</td>\n",
       "      <td>63.0</td>\n",
       "      <td>83.0</td>\n",
       "      <td>3.37</td>\n",
       "      <td>KH</td>\n",
       "      <td>1.635224e+09</td>\n",
       "    </tr>\n",
       "    <tr>\n",
       "      <th>...</th>\n",
       "      <td>...</td>\n",
       "      <td>...</td>\n",
       "      <td>...</td>\n",
       "      <td>...</td>\n",
       "      <td>...</td>\n",
       "      <td>...</td>\n",
       "      <td>...</td>\n",
       "      <td>...</td>\n",
       "      <td>...</td>\n",
       "    </tr>\n",
       "    <tr>\n",
       "      <th>578</th>\n",
       "      <td>abohar</td>\n",
       "      <td>30.1500</td>\n",
       "      <td>74.1833</td>\n",
       "      <td>24.54</td>\n",
       "      <td>37.0</td>\n",
       "      <td>0.0</td>\n",
       "      <td>2.27</td>\n",
       "      <td>IN</td>\n",
       "      <td>1.635225e+09</td>\n",
       "    </tr>\n",
       "    <tr>\n",
       "      <th>579</th>\n",
       "      <td>notse</td>\n",
       "      <td>6.9500</td>\n",
       "      <td>1.1667</td>\n",
       "      <td>23.44</td>\n",
       "      <td>94.0</td>\n",
       "      <td>100.0</td>\n",
       "      <td>1.60</td>\n",
       "      <td>TG</td>\n",
       "      <td>1.635225e+09</td>\n",
       "    </tr>\n",
       "    <tr>\n",
       "      <th>580</th>\n",
       "      <td>solhan</td>\n",
       "      <td>38.9634</td>\n",
       "      <td>41.0293</td>\n",
       "      <td>3.79</td>\n",
       "      <td>47.0</td>\n",
       "      <td>43.0</td>\n",
       "      <td>1.84</td>\n",
       "      <td>TR</td>\n",
       "      <td>1.635225e+09</td>\n",
       "    </tr>\n",
       "    <tr>\n",
       "      <th>581</th>\n",
       "      <td>nishihara</td>\n",
       "      <td>26.1842</td>\n",
       "      <td>127.7558</td>\n",
       "      <td>26.28</td>\n",
       "      <td>52.0</td>\n",
       "      <td>20.0</td>\n",
       "      <td>4.63</td>\n",
       "      <td>JP</td>\n",
       "      <td>1.635225e+09</td>\n",
       "    </tr>\n",
       "    <tr>\n",
       "      <th>582</th>\n",
       "      <td>oranjestad</td>\n",
       "      <td>12.5240</td>\n",
       "      <td>-70.0270</td>\n",
       "      <td>27.89</td>\n",
       "      <td>80.0</td>\n",
       "      <td>7.0</td>\n",
       "      <td>9.96</td>\n",
       "      <td>AW</td>\n",
       "      <td>1.635225e+09</td>\n",
       "    </tr>\n",
       "  </tbody>\n",
       "</table>\n",
       "<p>526 rows × 9 columns</p>\n",
       "</div>"
      ],
      "text/plain": [
       "              City      Lat       Lng  Max Temp  Humidity  Cloudiness  \\\n",
       "0     komsomolskiy  40.4272   71.7189     16.38      25.0        70.0   \n",
       "1       butaritari   3.0707  172.7902     28.18      75.0         9.0   \n",
       "2         goderich  43.7501  -81.7165      6.21      81.0       100.0   \n",
       "3    mar del plata -38.0023  -57.5575     13.20      80.0         0.0   \n",
       "4         sisophon  13.5859  102.9737     28.57      63.0        83.0   \n",
       "..             ...      ...       ...       ...       ...         ...   \n",
       "578         abohar  30.1500   74.1833     24.54      37.0         0.0   \n",
       "579          notse   6.9500    1.1667     23.44      94.0       100.0   \n",
       "580         solhan  38.9634   41.0293      3.79      47.0        43.0   \n",
       "581      nishihara  26.1842  127.7558     26.28      52.0        20.0   \n",
       "582     oranjestad  12.5240  -70.0270     27.89      80.0         7.0   \n",
       "\n",
       "     Wind Speed Country          Date  \n",
       "0          0.00      UZ  1.635224e+09  \n",
       "1          3.61      KI  1.635224e+09  \n",
       "2          7.20      CA  1.635224e+09  \n",
       "3          1.34      AR  1.635224e+09  \n",
       "4          3.37      KH  1.635224e+09  \n",
       "..          ...     ...           ...  \n",
       "578        2.27      IN  1.635225e+09  \n",
       "579        1.60      TG  1.635225e+09  \n",
       "580        1.84      TR  1.635225e+09  \n",
       "581        4.63      JP  1.635225e+09  \n",
       "582        9.96      AW  1.635225e+09  \n",
       "\n",
       "[526 rows x 9 columns]"
      ]
     },
     "execution_count": 9,
     "metadata": {},
     "output_type": "execute_result"
    }
   ],
   "source": [
    "city_df"
   ]
  },
  {
   "cell_type": "code",
   "execution_count": 67,
   "metadata": {},
   "outputs": [],
   "source": [
    "city_df.to_csv(output_data_file)"
   ]
  },
  {
   "cell_type": "markdown",
   "metadata": {},
   "source": [
    "## Plotting the Data\n",
    "* Use proper labeling of the plots using plot titles (including date of analysis) and axes labels.\n",
    "* Save the plotted figures as .pngs."
   ]
  },
  {
   "cell_type": "markdown",
   "metadata": {},
   "source": [
    "## Latitude vs. Temperature Plot"
   ]
  },
  {
   "cell_type": "code",
   "execution_count": 21,
   "metadata": {
    "scrolled": true
   },
   "outputs": [
    {
     "data": {
      "image/png": "[encoded data removed]",
      "text/plain": [
       "<Figure size 432x288 with 1 Axes>"
      ]
     },
     "metadata": {
      "needs_background": "light"
     },
     "output_type": "display_data"
    },
    {
     "name": "stdout",
     "output_type": "stream",
     "text": [
      "This scatter shows that max temperature is highly correlated with the city's Latitude\n"
     ]
    }
   ],
   "source": [
    "city_df.plot.scatter(x='Lat', y='Max Temp', grid=True,edgecolors='black')\n",
    "plt.title(\"City Latitude vs. Max Temperature\")\n",
    "plt.xlabel(\"Latitude\")\n",
    "plt.show()\n",
    "print(\"This scatter shows that max temperature is highly correlated with the city's Latitude\")"
   ]
  },
  {
   "cell_type": "markdown",
   "metadata": {},
   "source": [
    "## Latitude vs. Humidity Plot"
   ]
  },
  {
   "cell_type": "code",
   "execution_count": 20,
   "metadata": {},
   "outputs": [
    {
     "data": {
      "image/png": "[encoded data removed]",
      "text/plain": [
       "<Figure size 432x288 with 1 Axes>"
      ]
     },
     "metadata": {
      "needs_background": "light"
     },
     "output_type": "display_data"
    },
    {
     "name": "stdout",
     "output_type": "stream",
     "text": [
      "This scatter is showing the relationship between Latitude and Humidity. In general, cities will have higher humididty with higher latitude, but there are plenty of outliers as well\n"
     ]
    }
   ],
   "source": [
    "city_df.plot.scatter(x='Lat', y='Humidity', grid=True,edgecolors='black')\n",
    "plt.title(\"City Latitude vs. Humidity\")\n",
    "plt.xlabel(\"Latitude\")\n",
    "plt.show()\n",
    "print(\"This scatter is showing the relationship between Latitude and Humidity. In general, cities will have higher humididty with higher latitude, but there are plenty of outliers as well\")"
   ]
  },
  {
   "cell_type": "markdown",
   "metadata": {},
   "source": [
    "## Latitude vs. Cloudiness Plot"
   ]
  },
  {
   "cell_type": "code",
   "execution_count": 22,
   "metadata": {},
   "outputs": [
    {
     "data": {
      "image/png": "[encoded data removed]",
      "text/plain": [
       "<Figure size 432x288 with 1 Axes>"
      ]
     },
     "metadata": {
      "needs_background": "light"
     },
     "output_type": "display_data"
    },
    {
     "name": "stdout",
     "output_type": "stream",
     "text": [
      "This scatter shows that cloudiness of a city is very independant of Latitude, there is no realistic correclation\n"
     ]
    }
   ],
   "source": [
    "city_df.plot.scatter(x='Lat', y='Cloudiness', grid=True,edgecolors='black')\n",
    "plt.title(\"City Latitude vs. Cloudiness\")\n",
    "plt.xlabel(\"Latitude\")\n",
    "plt.show()\n",
    "print(\"This scatter shows that cloudiness of a city is very independant of Latitude, there is no realistic correclation\")"
   ]
  },
  {
   "cell_type": "markdown",
   "metadata": {},
   "source": [
    "## Latitude vs. Wind Speed Plot"
   ]
  },
  {
   "cell_type": "code",
   "execution_count": 23,
   "metadata": {},
   "outputs": [
    {
     "data": {
      "image/png": "[encoded data removed]",
      "text/plain": [
       "<Figure size 432x288 with 1 Axes>"
      ]
     },
     "metadata": {
      "needs_background": "light"
     },
     "output_type": "display_data"
    },
    {
     "name": "stdout",
     "output_type": "stream",
     "text": [
      "This scatter shows that wind speed doesn't not correlate with Latitude, it is very constant with a few outliers\n"
     ]
    }
   ],
   "source": [
    "city_df.plot.scatter(x='Lat', y='Wind Speed', grid=True,edgecolors='black')\n",
    "plt.title(\"City Latitude vs. Wind Speed\")\n",
    "plt.xlabel(\"Latitude\")\n",
    "plt.show()\n",
    "print(\"This scatter shows that wind speed doesn't not correlate with Latitude, it is very constant with a few outliers\")"
   ]
  },
  {
   "cell_type": "markdown",
   "metadata": {},
   "source": [
    "## Linear Regression"
   ]
  },
  {
   "cell_type": "code",
   "execution_count": 25,
   "metadata": {},
   "outputs": [
    {
     "data": {
      "text/html": [
       "<div>\n",
       "<style scoped>\n",
       "    .dataframe tbody tr th:only-of-type {\n",
       "        vertical-align: middle;\n",
       "    }\n",
       "\n",
       "    .dataframe tbody tr th {\n",
       "        vertical-align: top;\n",
       "    }\n",
       "\n",
       "    .dataframe thead th {\n",
       "        text-align: right;\n",
       "    }\n",
       "</style>\n",
       "<table border=\"1\" class=\"dataframe\">\n",
       "  <thead>\n",
       "    <tr style=\"text-align: right;\">\n",
       "      <th></th>\n",
       "      <th>City</th>\n",
       "      <th>Lat</th>\n",
       "      <th>Lng</th>\n",
       "      <th>Max Temp</th>\n",
       "      <th>Humidity</th>\n",
       "      <th>Cloudiness</th>\n",
       "      <th>Wind Speed</th>\n",
       "      <th>Country</th>\n",
       "      <th>Date</th>\n",
       "    </tr>\n",
       "  </thead>\n",
       "  <tbody>\n",
       "    <tr>\n",
       "      <th>0</th>\n",
       "      <td>komsomolskiy</td>\n",
       "      <td>40.4272</td>\n",
       "      <td>71.7189</td>\n",
       "      <td>16.38</td>\n",
       "      <td>25.0</td>\n",
       "      <td>70.0</td>\n",
       "      <td>0.00</td>\n",
       "      <td>UZ</td>\n",
       "      <td>1.635224e+09</td>\n",
       "    </tr>\n",
       "    <tr>\n",
       "      <th>1</th>\n",
       "      <td>butaritari</td>\n",
       "      <td>3.0707</td>\n",
       "      <td>172.7902</td>\n",
       "      <td>28.18</td>\n",
       "      <td>75.0</td>\n",
       "      <td>9.0</td>\n",
       "      <td>3.61</td>\n",
       "      <td>KI</td>\n",
       "      <td>1.635224e+09</td>\n",
       "    </tr>\n",
       "    <tr>\n",
       "      <th>2</th>\n",
       "      <td>goderich</td>\n",
       "      <td>43.7501</td>\n",
       "      <td>-81.7165</td>\n",
       "      <td>6.21</td>\n",
       "      <td>81.0</td>\n",
       "      <td>100.0</td>\n",
       "      <td>7.20</td>\n",
       "      <td>CA</td>\n",
       "      <td>1.635224e+09</td>\n",
       "    </tr>\n",
       "    <tr>\n",
       "      <th>4</th>\n",
       "      <td>sisophon</td>\n",
       "      <td>13.5859</td>\n",
       "      <td>102.9737</td>\n",
       "      <td>28.57</td>\n",
       "      <td>63.0</td>\n",
       "      <td>83.0</td>\n",
       "      <td>3.37</td>\n",
       "      <td>KH</td>\n",
       "      <td>1.635224e+09</td>\n",
       "    </tr>\n",
       "    <tr>\n",
       "      <th>6</th>\n",
       "      <td>kapaa</td>\n",
       "      <td>22.0752</td>\n",
       "      <td>-159.3190</td>\n",
       "      <td>23.37</td>\n",
       "      <td>88.0</td>\n",
       "      <td>40.0</td>\n",
       "      <td>5.14</td>\n",
       "      <td>US</td>\n",
       "      <td>1.635224e+09</td>\n",
       "    </tr>\n",
       "    <tr>\n",
       "      <th>...</th>\n",
       "      <td>...</td>\n",
       "      <td>...</td>\n",
       "      <td>...</td>\n",
       "      <td>...</td>\n",
       "      <td>...</td>\n",
       "      <td>...</td>\n",
       "      <td>...</td>\n",
       "      <td>...</td>\n",
       "      <td>...</td>\n",
       "    </tr>\n",
       "    <tr>\n",
       "      <th>578</th>\n",
       "      <td>abohar</td>\n",
       "      <td>30.1500</td>\n",
       "      <td>74.1833</td>\n",
       "      <td>24.54</td>\n",
       "      <td>37.0</td>\n",
       "      <td>0.0</td>\n",
       "      <td>2.27</td>\n",
       "      <td>IN</td>\n",
       "      <td>1.635225e+09</td>\n",
       "    </tr>\n",
       "    <tr>\n",
       "      <th>579</th>\n",
       "      <td>notse</td>\n",
       "      <td>6.9500</td>\n",
       "      <td>1.1667</td>\n",
       "      <td>23.44</td>\n",
       "      <td>94.0</td>\n",
       "      <td>100.0</td>\n",
       "      <td>1.60</td>\n",
       "      <td>TG</td>\n",
       "      <td>1.635225e+09</td>\n",
       "    </tr>\n",
       "    <tr>\n",
       "      <th>580</th>\n",
       "      <td>solhan</td>\n",
       "      <td>38.9634</td>\n",
       "      <td>41.0293</td>\n",
       "      <td>3.79</td>\n",
       "      <td>47.0</td>\n",
       "      <td>43.0</td>\n",
       "      <td>1.84</td>\n",
       "      <td>TR</td>\n",
       "      <td>1.635225e+09</td>\n",
       "    </tr>\n",
       "    <tr>\n",
       "      <th>581</th>\n",
       "      <td>nishihara</td>\n",
       "      <td>26.1842</td>\n",
       "      <td>127.7558</td>\n",
       "      <td>26.28</td>\n",
       "      <td>52.0</td>\n",
       "      <td>20.0</td>\n",
       "      <td>4.63</td>\n",
       "      <td>JP</td>\n",
       "      <td>1.635225e+09</td>\n",
       "    </tr>\n",
       "    <tr>\n",
       "      <th>582</th>\n",
       "      <td>oranjestad</td>\n",
       "      <td>12.5240</td>\n",
       "      <td>-70.0270</td>\n",
       "      <td>27.89</td>\n",
       "      <td>80.0</td>\n",
       "      <td>7.0</td>\n",
       "      <td>9.96</td>\n",
       "      <td>AW</td>\n",
       "      <td>1.635225e+09</td>\n",
       "    </tr>\n",
       "  </tbody>\n",
       "</table>\n",
       "<p>358 rows × 9 columns</p>\n",
       "</div>"
      ],
      "text/plain": [
       "             City      Lat       Lng  Max Temp  Humidity  Cloudiness  \\\n",
       "0    komsomolskiy  40.4272   71.7189     16.38      25.0        70.0   \n",
       "1      butaritari   3.0707  172.7902     28.18      75.0         9.0   \n",
       "2        goderich  43.7501  -81.7165      6.21      81.0       100.0   \n",
       "4        sisophon  13.5859  102.9737     28.57      63.0        83.0   \n",
       "6           kapaa  22.0752 -159.3190     23.37      88.0        40.0   \n",
       "..            ...      ...       ...       ...       ...         ...   \n",
       "578        abohar  30.1500   74.1833     24.54      37.0         0.0   \n",
       "579         notse   6.9500    1.1667     23.44      94.0       100.0   \n",
       "580        solhan  38.9634   41.0293      3.79      47.0        43.0   \n",
       "581     nishihara  26.1842  127.7558     26.28      52.0        20.0   \n",
       "582    oranjestad  12.5240  -70.0270     27.89      80.0         7.0   \n",
       "\n",
       "     Wind Speed Country          Date  \n",
       "0          0.00      UZ  1.635224e+09  \n",
       "1          3.61      KI  1.635224e+09  \n",
       "2          7.20      CA  1.635224e+09  \n",
       "4          3.37      KH  1.635224e+09  \n",
       "6          5.14      US  1.635224e+09  \n",
       "..          ...     ...           ...  \n",
       "578        2.27      IN  1.635225e+09  \n",
       "579        1.60      TG  1.635225e+09  \n",
       "580        1.84      TR  1.635225e+09  \n",
       "581        4.63      JP  1.635225e+09  \n",
       "582        9.96      AW  1.635225e+09  \n",
       "\n",
       "[358 rows x 9 columns]"
      ]
     },
     "execution_count": 25,
     "metadata": {},
     "output_type": "execute_result"
    }
   ],
   "source": [
    "north_cities = city_df.loc[city_df.Lat >= 0, :]\n",
    "south_cities = city_df.loc[city_df.Lat < 0, :]\n",
    "north_cities"
   ]
  },
  {
   "cell_type": "markdown",
   "metadata": {},
   "source": [
    "####  Northern Hemisphere - Max Temp vs. Latitude Linear Regression"
   ]
  },
  {
   "cell_type": "code",
   "execution_count": 78,
   "metadata": {},
   "outputs": [
    {
     "name": "stdout",
     "output_type": "stream",
     "text": [
      "The r-value is -0.8909470410826494, showing a high negative correlation\n"
     ]
    },
    {
     "data": {
      "image/png": "[encoded data removed]",
      "text/plain": [
       "<Figure size 432x288 with 1 Axes>"
      ]
     },
     "metadata": {
      "needs_background": "light"
     },
     "output_type": "display_data"
    }
   ],
   "source": [
    "slope,intercept,r,p,se = linregress(north_cities[\"Lat\"], north_cities[\"Max Temp\"])\n",
    "line_eq= \"y = \" + str(round(slope,2)) + \"x + \" + str(round(intercept,2))\n",
    "north_cities.plot.scatter(x='Lat',y='Max Temp')\n",
    "plt.plot(north_cities[\"Lat\"], intercept+slope*north_cities[\"Lat\"],'r',label='fitted line')\n",
    "plt.annotate(line_eq,(6,-10),fontsize=15,color='red')\n",
    "plt.title(\"Northern: Max Temp vs Latitude (10/25/2021)\")\n",
    "plt.savefig(\"Output Images/northtempvslat.jpg\")\n",
    "plt.plot()\n",
    "print(f\"The r-value is {r}, showing a high negative correlation\")"
   ]
  },
  {
   "cell_type": "markdown",
   "metadata": {},
   "source": [
    "####  Southern Hemisphere - Max Temp vs. Latitude Linear Regression"
   ]
  },
  {
   "cell_type": "code",
   "execution_count": 79,
   "metadata": {},
   "outputs": [
    {
     "name": "stdout",
     "output_type": "stream",
     "text": [
      "The r-value is 0.5885437021509893, showing a slight positive correlation\n"
     ]
    },
    {
     "data": {
      "image/png": "[encoded data removed]",
      "text/plain": [
       "<Figure size 432x288 with 1 Axes>"
      ]
     },
     "metadata": {
      "needs_background": "light"
     },
     "output_type": "display_data"
    }
   ],
   "source": [
    "slope,intercept,r,p,se = linregress(south_cities[\"Lat\"], south_cities[\"Max Temp\"])\n",
    "line_eq= \"y = \" + str(round(slope,2)) + \"x + \" + str(round(intercept,2))\n",
    "south_cities.plot.scatter(x='Lat',y='Max Temp')\n",
    "plt.plot(south_cities[\"Lat\"], intercept+slope*south_cities[\"Lat\"],'r',label='fitted line')\n",
    "plt.annotate(line_eq,(-30,5),fontsize=15,color='red')\n",
    "plt.title(\"Southern: Max Temp vs Latitude (10/25/2021)\")\n",
    "plt.savefig(\"Output Images/southtempvslat.jpg\")\n",
    "plt.plot()\n",
    "print(f\"The r-value is {r}, showing a slight positive correlation\")"
   ]
  },
  {
   "cell_type": "markdown",
   "metadata": {},
   "source": [
    "####  Northern Hemisphere - Humidity (%) vs. Latitude Linear Regression"
   ]
  },
  {
   "cell_type": "code",
   "execution_count": 80,
   "metadata": {},
   "outputs": [
    {
     "name": "stdout",
     "output_type": "stream",
     "text": [
      "The r-value is 0.24481675104059497, showing a slight positive correlation\n"
     ]
    },
    {
     "data": {
      "image/png": "[encoded data removed]",
      "text/plain": [
       "<Figure size 432x288 with 1 Axes>"
      ]
     },
     "metadata": {
      "needs_background": "light"
     },
     "output_type": "display_data"
    }
   ],
   "source": [
    "slope,intercept,r,p,se = linregress(north_cities[\"Lat\"], north_cities[\"Humidity\"])\n",
    "line_eq= \"y = \" + str(round(slope,2)) + \"x + \" + str(round(intercept,2))\n",
    "north_cities.plot.scatter(x='Lat',y='Humidity')\n",
    "plt.plot(north_cities[\"Lat\"], intercept+slope*north_cities[\"Lat\"],'r',label='fitted line')\n",
    "plt.annotate(line_eq,(47,20),fontsize=15,color='red')\n",
    "plt.title(\"Northern: Humidity % vs Latitude (10/25/2021)\")\n",
    "plt.savefig(\"Output Images/northhumidvslat.jpg\")\n",
    "plt.plot()\n",
    "print(f\"The r-value is {r}, showing a slight positive correlation\")"
   ]
  },
  {
   "cell_type": "markdown",
   "metadata": {},
   "source": [
    "####  Southern Hemisphere - Humidity (%) vs. Latitude Linear Regression"
   ]
  },
  {
   "cell_type": "code",
   "execution_count": 81,
   "metadata": {},
   "outputs": [
    {
     "name": "stdout",
     "output_type": "stream",
     "text": [
      "The r-value is 0.17960798809773185, showing a slight positive correlation\n"
     ]
    },
    {
     "data": {
      "image/png": "[encoded data removed]",
      "text/plain": [
       "<Figure size 432x288 with 1 Axes>"
      ]
     },
     "metadata": {
      "needs_background": "light"
     },
     "output_type": "display_data"
    }
   ],
   "source": [
    "slope,intercept,r,p,se = linregress(south_cities[\"Lat\"], south_cities[\"Humidity\"])\n",
    "line_eq= \"y = \" + str(round(slope,2)) + \"x + \" + str(round(intercept,2))\n",
    "south_cities.plot.scatter(x='Lat',y='Humidity')\n",
    "plt.plot(south_cities[\"Lat\"], intercept+slope*south_cities[\"Lat\"],'r',label='fitted line')\n",
    "plt.annotate(line_eq,(-55,25),fontsize=15,color='red')\n",
    "plt.title(\"Southern: Humidity % vs Latitude (10/25/2021)\")\n",
    "plt.savefig(\"Output Images/southhumidvslat.jpg\")\n",
    "plt.plot()\n",
    "print(f\"The r-value is {r}, showing a slight positive correlation\")"
   ]
  },
  {
   "cell_type": "markdown",
   "metadata": {},
   "source": [
    "####  Northern Hemisphere - Cloudiness (%) vs. Latitude Linear Regression"
   ]
  },
  {
   "cell_type": "code",
   "execution_count": 82,
   "metadata": {},
   "outputs": [
    {
     "name": "stdout",
     "output_type": "stream",
     "text": [
      "The r-value is 0.12950005076630258, showing a slight positive correlation, albiet with many outliers\n"
     ]
    },
    {
     "data": {
      "image/png": "[encoded data removed]",
      "text/plain": [
       "<Figure size 432x288 with 1 Axes>"
      ]
     },
     "metadata": {
      "needs_background": "light"
     },
     "output_type": "display_data"
    }
   ],
   "source": [
    "slope,intercept,r,p,se = linregress(north_cities[\"Lat\"], north_cities[\"Cloudiness\"])\n",
    "line_eq= \"y = \" + str(round(slope,2)) + \"x + \" + str(round(intercept,2))\n",
    "north_cities.plot.scatter(x='Lat',y='Cloudiness')\n",
    "plt.plot(north_cities[\"Lat\"], intercept+slope*north_cities[\"Lat\"],'r',label='fitted line')\n",
    "plt.annotate(line_eq,(20,28),fontsize=15,color='red')\n",
    "plt.title(\"Northern: Cloudiness % vs Latitude (10/25/2021)\")\n",
    "plt.savefig(\"Output Images/northcloudvslat.jpg\")\n",
    "plt.plot()\n",
    "print(f\"The r-value is {r}, showing a slight positive correlation, albiet with many outliers\")"
   ]
  },
  {
   "cell_type": "markdown",
   "metadata": {},
   "source": [
    "####  Southern Hemisphere - Cloudiness (%) vs. Latitude Linear Regression"
   ]
  },
  {
   "cell_type": "code",
   "execution_count": 83,
   "metadata": {},
   "outputs": [
    {
     "name": "stdout",
     "output_type": "stream",
     "text": [
      "The r-value is 0.25246984250658827, showing a small positive correlation\n"
     ]
    },
    {
     "data": {
      "image/png": "[encoded data removed]",
      "text/plain": [
       "<Figure size 432x288 with 1 Axes>"
      ]
     },
     "metadata": {
      "needs_background": "light"
     },
     "output_type": "display_data"
    }
   ],
   "source": [
    "slope,intercept,r,p,se = linregress(south_cities[\"Lat\"], south_cities[\"Cloudiness\"])\n",
    "line_eq= \"y = \" + str(round(slope,2)) + \"x + \" + str(round(intercept,2))\n",
    "south_cities.plot.scatter(x='Lat',y='Cloudiness')\n",
    "plt.plot(south_cities[\"Lat\"], intercept+slope*south_cities[\"Lat\"],'r',label='fitted line')\n",
    "plt.annotate(line_eq,(-50,27),fontsize=15,color='red')\n",
    "plt.title(\"Southern: Cloudiness % vs Latitude (10/25/2021)\")\n",
    "plt.savefig(\"Output Images/southcloudvslat.jpg\")\n",
    "plt.plot()\n",
    "print(f\"The r-value is {r}, showing a small positive correlation\")"
   ]
  },
  {
   "cell_type": "markdown",
   "metadata": {},
   "source": [
    "####  Northern Hemisphere - Wind Speed (mph) vs. Latitude Linear Regression"
   ]
  },
  {
   "cell_type": "code",
   "execution_count": 84,
   "metadata": {},
   "outputs": [
    {
     "name": "stdout",
     "output_type": "stream",
     "text": [
      "The r-value is 0.04713645035168065, showing nearly no correlation\n"
     ]
    },
    {
     "data": {
      "image/png": "[encoded data removed]",
      "text/plain": [
       "<Figure size 432x288 with 1 Axes>"
      ]
     },
     "metadata": {
      "needs_background": "light"
     },
     "output_type": "display_data"
    }
   ],
   "source": [
    "slope,intercept,r,p,se = linregress(north_cities[\"Lat\"], north_cities[\"Wind Speed\"])\n",
    "line_eq= \"y = \" + str(round(slope,2)) + \"x + \" + str(round(intercept,2))\n",
    "north_cities.plot.scatter(x='Lat',y='Wind Speed')\n",
    "plt.plot(north_cities[\"Lat\"], intercept+slope*north_cities[\"Lat\"],'r',label='fitted line')\n",
    "plt.annotate(line_eq,(10,11),fontsize=15,color='red')\n",
    "plt.title(\"Northern: Wind Speed (mph) % vs Latitude (10/25/2021)\")\n",
    "plt.savefig(\"Output Images/northwindvslat.jpg\")\n",
    "plt.plot()\n",
    "print(f\"The r-value is {r}, showing nearly no correlation\")"
   ]
  },
  {
   "cell_type": "markdown",
   "metadata": {},
   "source": [
    "####  Southern Hemisphere - Wind Speed (mph) vs. Latitude Linear Regression"
   ]
  },
  {
   "cell_type": "code",
   "execution_count": 85,
   "metadata": {},
   "outputs": [
    {
     "name": "stdout",
     "output_type": "stream",
     "text": [
      "The r-value is -0.16285387219116823, showing a very slight negative correlation\n"
     ]
    },
    {
     "data": {
      "image/png": "[encoded data removed]",
      "text/plain": [
       "<Figure size 432x288 with 1 Axes>"
      ]
     },
     "metadata": {
      "needs_background": "light"
     },
     "output_type": "display_data"
    }
   ],
   "source": [
    "slope,intercept,r,p,se = linregress(south_cities[\"Lat\"], south_cities[\"Wind Speed\"])\n",
    "line_eq= \"y = \" + str(round(slope,2)) + \"x + \" + str(round(intercept,2))\n",
    "south_cities.plot.scatter(x='Lat',y='Wind Speed')\n",
    "plt.plot(south_cities[\"Lat\"], intercept+slope*south_cities[\"Lat\"],'r',label='fitted line')\n",
    "plt.annotate(line_eq,(-50,8),fontsize=15,color='red')\n",
    "plt.title(\"Southern: Wind Speed (mph) % vs Latitude (10/25/2021)\")\n",
    "plt.savefig(\"Output Images/southwindvslat.jpg\")\n",
    "plt.plot()\n",
    "print(f\"The r-value is {r}, showing a very slight negative correlation\")"
   ]
  },
  {
   "cell_type": "code",
   "execution_count": 87,
   "metadata": {},
   "outputs": [
    {
     "name": "stdout",
     "output_type": "stream",
     "text": [
      "Three main observations from this data\n",
      "1: Temperature increases as Latitude approaches 0\n",
      "2: Wind Speed appears to not have any correllation with Latitude\n",
      "3: While cloudiness appears to have some correlation, there are many outliers so it is not realistic to call a strong relationship between the two.\n"
     ]
    }
   ],
   "source": [
    "print(\"Three main observations from this data\")\n",
    "print(\"1: Temperature increases as Latitude approaches 0\")\n",
    "print(\"2: Wind Speed appears to not have any correllation with Latitude\")\n",
    "print(\"3: While cloudiness appears to have some correlation, there are many outliers so it is not realistic to call a strong relationship between the two.\")"
   ]
  },
  {
   "cell_type": "code",
   "execution_count": null,
   "metadata": {},
   "outputs": [],
   "source": []
  }
 ],
 "metadata": {
  "anaconda-cloud": {},
  "kernel_info": {
   "name": "python3"
  },
  "kernelspec": {
   "display_name": "Python 3",
   "language": "python",
   "name": "python3"
  },
  "language_info": {
   "codemirror_mode": {
    "name": "ipython",
    "version": 3
   },
   "file_extension": ".py",
   "mimetype": "text/x-python",
   "name": "python",
   "nbconvert_exporter": "python",
   "pygments_lexer": "ipython3",
   "version": "3.8.8"
  },
  "latex_envs": {
   "LaTeX_envs_menu_present": true,
   "autoclose": false,
   "autocomplete": true,
   "bibliofile": "biblio.bib",
   "cite_by": "apalike",
   "current_citInitial": 1,
   "eqLabelWithNumbers": true,
   "eqNumInitial": 1,
   "hotkeys": {
    "equation": "Ctrl-E",
    "itemize": "Ctrl-I"
   },
   "labels_anchors": false,
   "latex_user_defs": false,
   "report_style_numbering": false,
   "user_envs_cfg": false
  },
  "nteract": {
   "version": "0.12.3"
  }
 },
 "nbformat": 4,
 "nbformat_minor": 2
}
